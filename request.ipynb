{
 "cells": [
  {
   "cell_type": "code",
   "execution_count": 32,
   "metadata": {},
   "outputs": [
    {
     "name": "stdout",
     "output_type": "stream",
     "text": [
      "Problem submitted: {'message': 'Problem sent to Kafka', 'problem': '2 + 2'}\n"
     ]
    }
   ],
   "source": [
    "import requests\n",
    "\n",
    "base_url = \"http://127.0.0.1:8000\"\n",
    "\n",
    "# Submit a math problem to the API\n",
    "def submit_problem(problem):\n",
    "    response = requests.post(f\"{base_url}/submit-problem/\", json={\"problem\": problem})\n",
    "    if response.status_code == 200:\n",
    "        print(\"Problem submitted:\", response.json())\n",
    "    else:\n",
    "        print(\"Failed to submit problem:\", response.text)\n",
    "\n",
    "\n",
    "# Get the solution for a specific problem\n",
    "def get_solution(problem):\n",
    "    response = requests.get(f\"{base_url}/get-solution/{problem}\")\n",
    "    if response.status_code == 200:\n",
    "        print(\"Solution:\", response.json())\n",
    "    else:\n",
    "        print(\"Failed to retrieve solution:\", response.text)\n",
    "\n",
    "# Example usage\n",
    "problem = \"2 + 2\"\n",
    "submit_problem(problem)"
   ]
  },
  {
   "cell_type": "code",
   "execution_count": 36,
   "metadata": {},
   "outputs": [
    {
     "name": "stdout",
     "output_type": "stream",
     "text": [
      "Solution: {'problem': '2 + 2', 'solution': '4'}\n"
     ]
    }
   ],
   "source": [
    "get_solution(problem)"
   ]
  },
  {
   "cell_type": "code",
   "execution_count": null,
   "metadata": {},
   "outputs": [],
   "source": []
  }
 ],
 "metadata": {
  "kernelspec": {
   "display_name": "nlp",
   "language": "python",
   "name": "python3"
  },
  "language_info": {
   "codemirror_mode": {
    "name": "ipython",
    "version": 3
   },
   "file_extension": ".py",
   "mimetype": "text/x-python",
   "name": "python",
   "nbconvert_exporter": "python",
   "pygments_lexer": "ipython3",
   "version": "3.11.10"
  }
 },
 "nbformat": 4,
 "nbformat_minor": 2
}
