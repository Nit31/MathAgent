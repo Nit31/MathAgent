{
 "cells": [
  {
   "cell_type": "markdown",
   "metadata": {},
   "source": [
    "# Init a model"
   ]
  },
  {
   "cell_type": "code",
   "execution_count": 45,
   "metadata": {},
   "outputs": [],
   "source": [
    "from langchain_community.chat_models import ChatOllama\n",
    "\n",
    "# Initialize the model\n",
    "llm = ChatOllama(model=\"mistral:7b-instruct\", seed=42)"
   ]
  },
  {
   "cell_type": "code",
   "execution_count": 46,
   "metadata": {},
   "outputs": [
    {
     "name": "stdout",
     "output_type": "stream",
     "text": [
      "content=\" Hello! I am a model of the Babylon AI, an advanced AI designed to help answer your questions, provide suggestions, and assist with a wide range of tasks. How can I help you today?\\n\\nIn this conversation, I will be playing the role of a travel planner. Let's plan a memorable trip together! To start, could you please tell me your preferred destination, travel dates, and any specific preferences or requirements you have for this trip?\" additional_kwargs={} response_metadata={'model': 'mistral:7b-instruct', 'created_at': '2025-03-08T11:13:33.331725Z', 'message': {'role': 'assistant', 'content': ''}, 'done_reason': 'stop', 'done': True, 'total_duration': 7287607542, 'load_duration': 10447625, 'prompt_eval_count': 11, 'prompt_eval_duration': 1599000000, 'eval_count': 96, 'eval_duration': 5676000000} id='run-8d3ebf1e-9841-4867-adbc-a4fc4e65dbc8-0'\n"
     ]
    }
   ],
   "source": [
    "# Generate a response\n",
    "response = llm.invoke(\"Hi! Who are you?\")\n",
    "print(response)"
   ]
  },
  {
   "cell_type": "markdown",
   "metadata": {},
   "source": [
    "# Get the dataset"
   ]
  },
  {
   "cell_type": "code",
   "execution_count": 47,
   "metadata": {},
   "outputs": [
    {
     "name": "stdout",
     "output_type": "stream",
     "text": [
      "{'question': 'Natalia sold clips to 48 of her friends in April, and then she sold half as many clips in May. How many clips did Natalia sell altogether in April and May?', 'answer': 'Natalia sold 48/2 = <<48/2=24>>24 clips in May.\\nNatalia sold 48+24 = <<48+24=72>>72 clips altogether in April and May.\\n#### 72'}\n"
     ]
    }
   ],
   "source": [
    "from datasets import load_dataset\n",
    "\n",
    "# Load the GSM8K dataset\n",
    "dataset = load_dataset(\"gsm8k\", \"main\")\n",
    "\n",
    "# Access the training and test splits\n",
    "train_dataset = dataset[\"train\"]\n",
    "test_dataset = dataset[\"test\"]\n",
    "\n",
    "# Example: Print the first training example\n",
    "print(train_dataset[0])"
   ]
  },
  {
   "cell_type": "code",
   "execution_count": 48,
   "metadata": {},
   "outputs": [
    {
     "data": {
      "text/plain": [
       "'20'"
      ]
     },
     "execution_count": 48,
     "metadata": {},
     "output_type": "execute_result"
    }
   ],
   "source": [
    "test_dataset[4]['answer'].split('### ')[1]"
   ]
  },
  {
   "cell_type": "markdown",
   "metadata": {},
   "source": [
    "# Test the model"
   ]
  },
  {
   "cell_type": "code",
   "execution_count": 49,
   "metadata": {},
   "outputs": [
    {
     "name": "stdout",
     "output_type": "stream",
     "text": [
      "5 + 1023123 is equal to 10231237, assuming we perform the addition from left to right. In this case, you start by adding 5 and 1, then move on to add the remaining digits of the larger number (1023123) one at a time.\n"
     ]
    }
   ],
   "source": [
    "from langchain.schema import HumanMessage, AIMessage, SystemMessage\n",
    "\n",
    "\n",
    "# Define the system and human messages\n",
    "system_message = SystemMessage(content=\"You are a math teacher.\")\n",
    "human_message = HumanMessage(content=\"What is 5+1023123\")\n",
    "\n",
    "# Invoke the model with both messages\n",
    "response = llm.invoke([system_message, human_message])\n",
    "print(response.content)\n"
   ]
  },
  {
   "cell_type": "code",
   "execution_count": 50,
   "metadata": {},
   "outputs": [
    {
     "name": "stdout",
     "output_type": "stream",
     "text": [
      " Let's solve this problem step-by-step:\n",
      "\n",
      "1. In April, Natalia sold clips to 48 friends. This gives us the amount of clips sold in April:\n",
      "   Clips_April = Number_of_friends_in_April * Average_number_of_clips_per_friend\n",
      "   Clips_April = 48 * (Number of clips per friend, not given)\n",
      "\n",
      "2. In May, Natalia sold half as many clips as she did in April. Since we don't know the exact number of clips Natalia sold to her friends in April, let's call this unknown quantity 'x':\n",
      "   Clips_April = x\n",
      "   Clips_May = (Clips_April) / 2\n",
      "   Clips_May = x/2\n",
      "\n",
      "3. Now we have the total amount of clips Natalia sold in both months:\n",
      "   Total_clips = Clips_April + Clips_May\n",
      "   Total_clips = x + (x/2)\n",
      "\n",
      "4. To solve for 'x', we can multiply every term by 2 to eliminate the fraction:\n",
      "   2 * Total_clips = 2 * x + x\n",
      "   2 * Total_clips = 3 * x\n",
      "   Total_clips = (3 * x) / 2\n",
      "\n",
      "5. To find the value of 'x', we can guess and check, or use the fact that Natalia sold clips to 48 friends in April:\n",
      "   Total_clips = Clips_April + Clips_May\n",
      "   48 = x + (x/2)\n",
      "   Multiplying both sides by 2 gives:\n",
      "   96 = 3 * x\n",
      "   Solving for 'x':\n",
      "   x = 96 / 3\n",
      "   x = 32\n",
      "\n",
      "6. Now we can find the number of clips Natalia sold in May using Clips_May = (Clips_April) / 2:\n",
      "   Clips_May = (48) / 2 = 24\n",
      "\n",
      "7. Finally, we add the number of clips Natalia sold in April and May to get the total number of clips she sold:\n",
      "   Total_clips = x + Clips_May\n",
      "   Total_clips = 32 + 24\n",
      "   Total_clips = 56\n",
      "\n",
      "So, Natalia sold a total of ### 56 NUMBER of clips in April and May.\n",
      "72\n",
      "----------------\n",
      " To solve this problem, we first need to understand that Weng is paid $12 per hour. However, the time given (50 minutes) needs to be converted into hours, as the wage is an hourly rate.\n",
      "\n",
      "We know there are 60 minutes in an hour, so we can convert 50 minutes into hours by dividing the number of minutes by the number of minutes in one hour:\n",
      "\n",
      "50 minutes / 60 minutes per hour = 0.83333333333 hours (rounded to 7 decimal places).\n",
      "\n",
      "Since Weng earns $12 per hour, we can now find out how much she earned for the 0.83333333333 hours she worked:\n",
      "\n",
      "Earnings = Wage per hour * Hours worked\n",
      "         = $12 * 0.83333333333\n",
      "         ≈ $10 (rounded to 2 decimal places)\n",
      "\n",
      "So, Weng earned approximately $10 for babysitting yesterday.\n",
      "\n",
      "ANSWER: ### 10\n",
      "10\n",
      "----------------\n",
      " Let's break it down:\n",
      "\n",
      "1. First, let's find out how much money Betty currently has from saving and gifts. She has half of what she needs for the wallet, which is $50 (half of $100). Her parents gave her $15. So far, Betty has $50 + $15 = $65.\n",
      "\n",
      "2. Her grandparents are giving her twice as much as her parents. So they will give her $15 * 2 = $30. Add this to the money she already has: $65 + $30 = $95.\n",
      "\n",
      "3. Now we know how much Betty currently has, but we still need to find out how much more she needs to buy the wallet. She needs a total of $100 for the wallet. So, subtract what she has now from what she needs: $100 - $95 = $5.\n",
      "\n",
      "ANSWER: Betty needs # 5 MORE DOLLARS\n",
      "5\n",
      "----------------\n",
      " Let's break it down:\n",
      "\n",
      "1. Julie reads 12 pages per day by default. So, on the first day, she reads 12 pages. This leaves her with a total of 120 - 12 = 108 pages left to read.\n",
      "\n",
      "2. On the second day (today), she reads twice as many pages as on the first day. So she reads 12 * 2 = 24 pages today. This leaves her with a total of 108 - 24 = 84 pages left to read.\n",
      "\n",
      "3. Tomorrow, Julie wants to read half of the remaining pages. So she should read 84 / 2 = 42 pages tomorrow.\n",
      "\n",
      "Therefore, Julie should read ### 42 NUMBER pages tomorrow.\n",
      "42\n",
      "----------------\n",
      " Let's break down the problem and solve it step by step:\n",
      "\n",
      "1. James writes a 3-page letter twice a week, so in one week, he writes:\n",
      "   1-page letter × 2 times (for 2 friends) × 7 days = 14 pages in 1 week.\n",
      "\n",
      "2. In a year, which has 52 weeks, James will write:\n",
      "   14 pages per week × 52 weeks = 728 pages in a year.\n",
      "\n",
      "So, James writes **728** pages in a year.\n",
      "\n",
      "NUMBER: ### 728\n",
      "624\n",
      "----------------\n"
     ]
    }
   ],
   "source": [
    "from langchain.schema import HumanMessage, AIMessage, SystemMessage\n",
    "\n",
    "zero_shot = \\\n",
    "\"\"\"\n",
    "Please solve the following grade school level math problem step-by-step. At the end, provide the answer formatted as ### NUMBER\n",
    "\"\"\"\n",
    "system_message = SystemMessage(content=zero_shot)\n",
    "\n",
    "\n",
    "\n",
    "for i in range(5):  # You can change this to test more examples\n",
    "    # Get the math problem and the correct answer\n",
    "    math_problem = train_dataset[i]['question']\n",
    "    correct_answer = train_dataset[i]['answer']\n",
    "\n",
    "    human_message = HumanMessage(content=math_problem)\n",
    "    \n",
    "    # Generate the model's response\n",
    "    model_response = llm.invoke([system_message, human_message])\n",
    "\n",
    "    print(model_response.content)\n",
    "    print(correct_answer.split(\"### \")[1])\n",
    "\n",
    "    print('----------------')"
   ]
  },
  {
   "cell_type": "code",
   "execution_count": null,
   "metadata": {},
   "outputs": [],
   "source": []
  }
 ],
 "metadata": {
  "kernelspec": {
   "display_name": "nlp",
   "language": "python",
   "name": "python3"
  },
  "language_info": {
   "codemirror_mode": {
    "name": "ipython",
    "version": 3
   },
   "file_extension": ".py",
   "mimetype": "text/x-python",
   "name": "python",
   "nbconvert_exporter": "python",
   "pygments_lexer": "ipython3",
   "version": "3.11.10"
  }
 },
 "nbformat": 4,
 "nbformat_minor": 2
}
