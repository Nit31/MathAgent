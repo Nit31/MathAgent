{
 "cells": [
  {
   "cell_type": "code",
   "execution_count": null,
   "metadata": {},
   "outputs": [],
   "source": [
    "import requests\n",
    "\n",
    "base_url = \"http://localhost:8080\"\n",
    "\n",
    "# Submit a math problem to the API\n",
    "def submit_problem(problem):\n",
    "    response = requests.post(f\"{base_url}/submit-problem/\", json={\"problem\": problem})\n",
    "    if response.status_code == 200:\n",
    "        print(\"Problem submitted:\", response.json())\n",
    "        return response.json()['problem_hash']\n",
    "    else:\n",
    "        print(\"Failed to submit problem:\", response.text)\n",
    "        return None\n",
    "\n",
    "\n",
    "# Get the solution for a specific problem\n",
    "def get_solution(problem):\n",
    "    response = requests.get(f\"{base_url}/get-solution/{problem}\")\n",
    "    if response.status_code == 200:\n",
    "        if 'solution' in response.json():\n",
    "            print(\"Solution:\", response.json()['solution'])\n",
    "            print(\"Answer:\", response.json()['answer'])\n",
    "        else:\n",
    "            print(response.json())\n",
    "    else:\n",
    "        print(\"Failed to retrieve solution:\", response.text)"
   ]
  },
  {
   "cell_type": "code",
   "execution_count": null,
   "metadata": {},
   "outputs": [],
   "source": [
    "# Example\n",
    "problem = \\\n",
    "\"I have a credit card with a 20% APR. \\\n",
    "If I make a purchase of $1000, how much will I owe in 1 year?\"\n",
    "\n",
    "hash = submit_problem(problem)"
   ]
  },
  {
   "cell_type": "code",
   "execution_count": null,
   "metadata": {},
   "outputs": [],
   "source": [
    "get_solution(hash)"
   ]
  }
 ],
 "metadata": {
  "kernelspec": {
   "display_name": "nlp",
   "language": "python",
   "name": "python3"
  },
  "language_info": {
   "codemirror_mode": {
    "name": "ipython",
    "version": 3
   },
   "file_extension": ".py",
   "mimetype": "text/x-python",
   "name": "python",
   "nbconvert_exporter": "python",
   "pygments_lexer": "ipython3",
   "version": "3.11.10"
  }
 },
 "nbformat": 4,
 "nbformat_minor": 2
}
