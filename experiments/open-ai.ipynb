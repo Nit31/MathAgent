{
 "cells": [
  {
   "cell_type": "code",
   "execution_count": 1,
   "metadata": {},
   "outputs": [],
   "source": [
    "import asyncio\n",
    "import re\n",
    "\n",
    "from langchain.schema import HumanMessage, SystemMessage\n",
    "from langchain_openai import ChatOpenAI\n",
    "from tqdm.asyncio import tqdm as atqdm\n"
   ]
  },
  {
   "cell_type": "markdown",
   "metadata": {},
   "source": [
    "# Get the dataset"
   ]
  },
  {
   "cell_type": "code",
   "execution_count": 2,
   "metadata": {},
   "outputs": [
    {
     "name": "stderr",
     "output_type": "stream",
     "text": [
      "/Users/macbook/.pyenv/versions/3.11.10/envs/nlp/lib/python3.11/site-packages/tqdm/auto.py:21: TqdmWarning: IProgress not found. Please update jupyter and ipywidgets. See https://ipywidgets.readthedocs.io/en/stable/user_install.html\n",
      "  from .autonotebook import tqdm as notebook_tqdm\n"
     ]
    }
   ],
   "source": [
    "from datasets import load_dataset\n",
    "\n",
    "# Load the GSM8K dataset\n",
    "dataset = load_dataset(\"gsm8k\", \"main\")\n",
    "\n",
    "# Access the training and test splits\n",
    "train_dataset = dataset[\"train\"]\n",
    "test_dataset = dataset[\"test\"]"
   ]
  },
  {
   "cell_type": "code",
   "execution_count": 3,
   "metadata": {},
   "outputs": [],
   "source": [
    "# Get a sample\n",
    "val_sample = test_dataset.shuffle(seed=42).select(range(100))"
   ]
  },
  {
   "cell_type": "markdown",
   "metadata": {},
   "source": [
    "# Zero-shot prompt"
   ]
  },
  {
   "cell_type": "code",
   "execution_count": 4,
   "metadata": {},
   "outputs": [],
   "source": [
    "# Create a semaphore to limit concurrent requests\n",
    "request_semaphore = asyncio.Semaphore(10)\n",
    "\n",
    "# Initialize the language model\n",
    "llm = ChatOpenAI(\n",
    "    model_name=\"gpt-4o-mini-2024-07-18\",\n",
    "    temperature=0,\n",
    "    seed=42,\n",
    ")\n",
    "\n",
    "def check_answer(model_answer, true_answer):\n",
    "    try:\n",
    "        true_answer = true_answer.split(\",\")\n",
    "\n",
    "        true_answer = [int(x) for x in true_answer]\n",
    "    except Exception:\n",
    "        true_answer = [int(true_answer)]\n",
    "\n",
    "    return int(model_answer) in true_answer\n",
    "\n",
    "async def process_problem(problem, system_prompt):\n",
    "    # Get the math problem and the correct answer\n",
    "    math_problem = problem[\"question\"]\n",
    "    correct_answer = problem[\"answer\"].split(\"### \")[1]\n",
    "\n",
    "    system_message = SystemMessage(content=system_prompt)\n",
    "    human_message = HumanMessage(content=math_problem)\n",
    "\n",
    "    # Use semaphore to limit concurrent requests\n",
    "    async with request_semaphore:\n",
    "        # Generate the model's response asynchronously\n",
    "        model_response = await llm.ainvoke([system_message, human_message])\n",
    "        content = model_response.content\n",
    "\n",
    "    # Use regex to parse the numerical answer\n",
    "    try:\n",
    "        model_ans = re.search(r\"Answer:\\s*[^0-9]*([\\d]+(?:\\.\\d+)?)\", content).group(1).strip()\n",
    "        is_correct = check_answer(model_ans, correct_answer)\n",
    "    except Exception:\n",
    "        is_correct = False\n",
    "\n",
    "    return content, is_correct\n",
    "\n",
    "\n",
    "async def bench(system_prompt):\n",
    "    k = 0\n",
    "    model_answers = []\n",
    "\n",
    "    # Create tasks for all problems\n",
    "    tasks = [process_problem(problem, system_prompt) for problem in val_sample]\n",
    "\n",
    "    # Process all tasks with progress tracking\n",
    "    for result in atqdm(asyncio.as_completed(tasks), total=len(val_sample)):\n",
    "        content, is_correct = await result\n",
    "        model_answers.append(content)\n",
    "        if is_correct:\n",
    "            k += 1\n",
    "\n",
    "    print(f\"Precision: {k / len(val_sample)}\")"
   ]
  },
  {
   "cell_type": "code",
   "execution_count": 5,
   "metadata": {},
   "outputs": [],
   "source": [
    "zero_shot = \"\"\"\n",
    "### INSTRUCTIONS\n",
    "1) Solve the following grade school level math problem step-by-step.\n",
    "2) If you solve it right, I will give you a millon dollars.\n",
    "3) At the end, provide the answer formatted as Answer: <ANSWER>\n",
    "\"\"\""
   ]
  },
  {
   "cell_type": "code",
   "execution_count": 6,
   "metadata": {},
   "outputs": [
    {
     "name": "stderr",
     "output_type": "stream",
     "text": [
      "100%|██████████| 100/100 [00:57<00:00,  1.74it/s]"
     ]
    },
    {
     "name": "stdout",
     "output_type": "stream",
     "text": [
      "Precision: 0.85\n"
     ]
    },
    {
     "name": "stderr",
     "output_type": "stream",
     "text": [
      "\n"
     ]
    }
   ],
   "source": [
    "await bench(zero_shot)"
   ]
  },
  {
   "cell_type": "markdown",
   "metadata": {},
   "source": [
    "# Few-shot"
   ]
  },
  {
   "cell_type": "code",
   "execution_count": 7,
   "metadata": {},
   "outputs": [],
   "source": [
    "few_shot = \"\"\"\n",
    "### INSTRUCTIONS\n",
    "1) Solve the following grade school level math problem step-by-step.\n",
    "2) At the end, provide the answer formatted as Answer: <ANSWER>\n",
    "3) If you solve it right, I will give you a millon dollars.\n",
    "\n",
    "### EXAMPLE 1\n",
    "## QUESTOIN\n",
    "Mr. Sanchez found out that 40% of his Grade 5 students got a final grade below B. How many of his students got a final grade of B and above if he has 60 students in Grade 5?\n",
    "## ANSWER\n",
    "Since 40% of his students got below B, 100% - 40% = 60% of Mr. Sanchez's students got B and above.\n",
    "Thus, 60 x 60/100 = <<60*60/100=36>>36 students got B and above in their final grade.\n",
    "Answer: 36\n",
    "\n",
    "### EXAMPLE 2\n",
    "## PROBLEM\n",
    "Weng earns $12 an hour for babysitting. Yesterday, she just did 50 minutes of babysitting. How much did she earn?\n",
    "## ANSWER\n",
    "Weng earns 12/60 = $0.2 per minute.\n",
    "Working 50 minutes, she earned 0.2 x 50 = $10.\n",
    "Answer: 10\n",
    "\n",
    "### EXAMPLE 3\n",
    "## PROBLEM\n",
    "John writes 20 pages a day. How long will it take him to write 3 books that are 400 pages each?\n",
    "## ANSWER\n",
    "He wants to write 3*400=1200 pages.\n",
    "So it will take him 1200/20=60 days.\n",
    "Answer: 60\n",
    "\n",
    "### EXAMPLE 4\n",
    "## PROBLEM\n",
    "Mark has a garden with flowers. He planted plants of three different colors in it. Ten of them are yellow, and there are 80% more of those in purple. There are only 25% as many green flowers as there are yellow and purple flowers. How many flowers does Mark have in his garden?\n",
    "## ANSWER\n",
    "There are 80/100 * 10 = <<80/100*10=8>>8 more purple flowers than yellow flowers.\n",
    "So in Mark's garden, there are 10 + 8 = <<10+8=18>>18 purple flowers.\n",
    "Purple and yellow flowers sum up to 10 + 18 = <<10+18=28>>28 flowers.\n",
    "That means in Mark's garden there are 25/100 * 28 = <<25/100*28=7>>7 green flowers.\n",
    "So in total Mark has 28 + 7 = <<28+7=35>>35 plants in his garden.\n",
    "Answer: 35\n",
    "\"\"\""
   ]
  },
  {
   "cell_type": "code",
   "execution_count": 8,
   "metadata": {},
   "outputs": [
    {
     "name": "stderr",
     "output_type": "stream",
     "text": [
      "100%|██████████| 100/100 [00:49<00:00,  2.01it/s]"
     ]
    },
    {
     "name": "stdout",
     "output_type": "stream",
     "text": [
      "Precision: 0.92\n"
     ]
    },
    {
     "name": "stderr",
     "output_type": "stream",
     "text": [
      "\n"
     ]
    }
   ],
   "source": [
    "await bench(few_shot)"
   ]
  }
 ],
 "metadata": {
  "kernelspec": {
   "display_name": "nlp",
   "language": "python",
   "name": "python3"
  },
  "language_info": {
   "codemirror_mode": {
    "name": "ipython",
    "version": 3
   },
   "file_extension": ".py",
   "mimetype": "text/x-python",
   "name": "python",
   "nbconvert_exporter": "python",
   "pygments_lexer": "ipython3",
   "version": "3.11.10"
  }
 },
 "nbformat": 4,
 "nbformat_minor": 2
}
