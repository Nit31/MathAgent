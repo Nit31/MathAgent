{
 "cells": [
  {
   "cell_type": "code",
   "execution_count": 7,
   "metadata": {},
   "outputs": [],
   "source": [
    "import requests\n",
    "\n",
    "base_url = \"http://127.0.0.1:8000\"\n",
    "\n",
    "# Submit a math problem to the API\n",
    "def submit_problem(problem):\n",
    "    response = requests.post(f\"{base_url}/submit-problem/\", json={\"problem\": problem})\n",
    "    if response.status_code == 200:\n",
    "        print(\"Problem submitted:\", response.json())\n",
    "        return response.json()['problem_hash']\n",
    "    else:\n",
    "        print(\"Failed to submit problem:\", response.text)\n",
    "        return None\n",
    "\n",
    "\n",
    "# Get the solution for a specific problem\n",
    "def get_solution(problem):\n",
    "    response = requests.get(f\"{base_url}/get-solution/{problem}\")\n",
    "    if response.status_code == 200:\n",
    "        if 'solution' in response.json():\n",
    "            print(\"Solution:\", response.json()['solution'])\n",
    "        else:\n",
    "            print(response.json())\n",
    "    else:\n",
    "        print(\"Failed to retrieve solution:\", response.text)"
   ]
  },
  {
   "cell_type": "code",
   "execution_count": 10,
   "metadata": {},
   "outputs": [
    {
     "name": "stdout",
     "output_type": "stream",
     "text": [
      "Problem submitted: {'message': 'Problem already solved', 'problem': 'I have a credit card with a 20% APR. If I make a purchase of $1000, how much will I owe in 1 year?', 'problem_hash': '521ad5084ff4fcb1218c24b4527e1d05021b0f2cf7950ef5823e09dfbf3ce261'}\n"
     ]
    }
   ],
   "source": [
    "# Example\n",
    "problem = \\\n",
    "\"I have a credit card with a 20% APR. \\\n",
    "If I make a purchase of $1000, how much will I owe in 1 year?\"\n",
    "\n",
    "hash = submit_problem(problem)"
   ]
  },
  {
   "cell_type": "code",
   "execution_count": 11,
   "metadata": {},
   "outputs": [
    {
     "name": "stdout",
     "output_type": "stream",
     "text": [
      "Solution: To find out how much you will owe in 1 year with a 20% APR on a $1000 purchase, we can follow these steps:\n",
      "\n",
      "1. **Calculate the interest for 1 year**: \n",
      "   The formula for calculating interest is:\n",
      "   \\[\n",
      "   \\text{Interest} = \\text{Principal} \\times \\text{Rate}\n",
      "   \\]\n",
      "   Here, the principal is $1000 and the rate is 20% (or 0.20 in decimal form).\n",
      "\n",
      "   \\[\n",
      "   \\text{Interest} = 1000 \\times 0.20 = 200\n",
      "   \\]\n",
      "\n",
      "2. **Calculate the total amount owed after 1 year**:\n",
      "   To find the total amount owed, we add the interest to the principal:\n",
      "   \\[\n",
      "   \\text{Total Amount Owed} = \\text{Principal} + \\text{Interest}\n",
      "   \\]\n",
      "   \\[\n",
      "   \\text{Total Amount Owed} = 1000 + 200 = 1200\n",
      "   \\]\n",
      "\n",
      "Therefore, after 1 year, you will owe $1200.\n",
      "\n",
      "Answer: 1200\n"
     ]
    }
   ],
   "source": [
    "get_solution(hash)"
   ]
  },
  {
   "cell_type": "code",
   "execution_count": null,
   "metadata": {},
   "outputs": [],
   "source": []
  }
 ],
 "metadata": {
  "kernelspec": {
   "display_name": "nlp",
   "language": "python",
   "name": "python3"
  },
  "language_info": {
   "codemirror_mode": {
    "name": "ipython",
    "version": 3
   },
   "file_extension": ".py",
   "mimetype": "text/x-python",
   "name": "python",
   "nbconvert_exporter": "python",
   "pygments_lexer": "ipython3",
   "version": "3.11.10"
  }
 },
 "nbformat": 4,
 "nbformat_minor": 2
}
