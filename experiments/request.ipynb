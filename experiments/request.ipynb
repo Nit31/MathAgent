{
 "cells": [
  {
   "cell_type": "code",
   "execution_count": 21,
   "metadata": {},
   "outputs": [],
   "source": [
    "import requests\n",
    "\n",
    "base_url = \"http://127.0.0.1:8000\"\n",
    "\n",
    "# Submit a math problem to the API\n",
    "def submit_problem(problem):\n",
    "    response = requests.post(f\"{base_url}/submit-problem/\", json={\"problem\": problem})\n",
    "    if response.status_code == 200:\n",
    "        print(\"Problem submitted:\", response.json())\n",
    "        return response.json()['problem_hash']\n",
    "    else:\n",
    "        print(\"Failed to submit problem:\", response.text)\n",
    "        return None\n",
    "\n",
    "\n",
    "# Get the solution for a specific problem\n",
    "def get_solution(problem):\n",
    "    response = requests.get(f\"{base_url}/get-solution/{problem}\")\n",
    "    if response.status_code == 200:\n",
    "        if 'solution' in response.json():\n",
    "            print(\"Solution:\", response.json()['solution'])\n",
    "            print(\"Answer:\", response.json()['answer'])\n",
    "        else:\n",
    "            print(response.json())\n",
    "    else:\n",
    "        print(\"Failed to retrieve solution:\", response.text)"
   ]
  },
  {
   "cell_type": "code",
   "execution_count": 22,
   "metadata": {},
   "outputs": [
    {
     "name": "stdout",
     "output_type": "stream",
     "text": [
      "Problem submitted: {'message': 'Problem sent to Kafka', 'problem': 'I have a credit card with a 20% APR. If I make a purchase of $1000, how much will I owe in 1 year?', 'problem_hash': '521ad5084ff4fcb1218c24b4527e1d05021b0f2cf7950ef5823e09dfbf3ce261'}\n"
     ]
    }
   ],
   "source": [
    "# Example\n",
    "problem = \\\n",
    "\"I have a credit card with a 20% APR. \\\n",
    "If I make a purchase of $1000, how much will I owe in 1 year?\"\n",
    "\n",
    "hash = submit_problem(problem)"
   ]
  },
  {
   "cell_type": "code",
   "execution_count": 29,
   "metadata": {},
   "outputs": [
    {
     "name": "stdout",
     "output_type": "stream",
     "text": [
      "Solution: ================================ Human Message =================================\n",
      "\n",
      "I have a credit card with a 20% APR. If I make a purchase of $1000, how much will I owe in 1 year?\n",
      "================================== Ai Message ==================================\n",
      "\n",
      "### Solving Plan:\n",
      "\n",
      "Plan: First, I need to calculate the total interest that will accrue on the $1000 purchase over one year at a 20% annual percentage rate (APR). The formula for calculating interest is: Interest = Principal × Rate × Time. In this case, the principal is $1000, the rate is 20% (or 0.20), and the time is 1 year. \n",
      "#E1 = Calculate[1000 * 0.20 * 1]\n",
      "\n",
      "Plan: Next, I will add the calculated interest to the original purchase amount to find the total amount owed after one year. This can be done using the formula: Total Amount Owed = Principal + Interest.\n",
      "#E2 = Calculate[1000 + #E1]\n",
      "================================= Tool Message =================================\n",
      "\n",
      "1000 + #E1\n",
      "Result: Error: Sympify of expression 'could not parse '1000 + #E1'' failed, because of exception being raised:\n",
      "SyntaxError: invalid syntax (<string>, line 1)\n",
      "================================== Ai Message ==================================\n",
      "\n",
      "To solve the problem, let's follow the plan step by step.\n",
      "\n",
      "1. **Calculate the interest**:\n",
      "   - Principal = $1000\n",
      "   - Rate = 20% = 0.20\n",
      "   - Time = 1 year\n",
      "\n",
      "   Using the formula for interest:\n",
      "   \\[\n",
      "   \\text{Interest} = \\text{Principal} \\times \\text{Rate} \\times \\text{Time} = 1000 \\times 0.20 \\times 1 = 200\n",
      "   \\]\n",
      "\n",
      "2. **Calculate the total amount owed**:\n",
      "   - Total Amount Owed = Principal + Interest\n",
      "   \\[\n",
      "   \\text{Total Amount Owed} = 1000 + 200 = 1200\n",
      "   \\]\n",
      "\n",
      "Thus, the total amount owed after one year is $1200.\n",
      "\n",
      "Answer: 1200\n",
      "================================== Ai Message ==================================\n",
      "\n",
      "END\n",
      "Answer: To solve the problem, let's follow the plan step by step.\n",
      "\n",
      "1. **Calculate the interest**:\n",
      "   - Principal = $1000\n",
      "   - Rate = 20% = 0.20\n",
      "   - Time = 1 year\n",
      "\n",
      "   Using the formula for interest:\n",
      "   \\[\n",
      "   \\text{Interest} = \\text{Principal} \\times \\text{Rate} \\times \\text{Time} = 1000 \\times 0.20 \\times 1 = 200\n",
      "   \\]\n",
      "\n",
      "2. **Calculate the total amount owed**:\n",
      "   - Total Amount Owed = Principal + Interest\n",
      "   \\[\n",
      "   \\text{Total Amount Owed} = 1000 + 200 = 1200\n",
      "   \\]\n",
      "\n",
      "Thus, the total amount owed after one year is $1200.\n",
      "\n",
      "Answer: 1200\n"
     ]
    }
   ],
   "source": [
    "get_solution(hash)"
   ]
  }
 ],
 "metadata": {
  "kernelspec": {
   "display_name": "nlp",
   "language": "python",
   "name": "python3"
  },
  "language_info": {
   "codemirror_mode": {
    "name": "ipython",
    "version": 3
   },
   "file_extension": ".py",
   "mimetype": "text/x-python",
   "name": "python",
   "nbconvert_exporter": "python",
   "pygments_lexer": "ipython3",
   "version": "3.11.10"
  }
 },
 "nbformat": 4,
 "nbformat_minor": 2
}
